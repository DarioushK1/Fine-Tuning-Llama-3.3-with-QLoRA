{
 "cells": [
  {
   "cell_type": "markdown",
   "metadata": {},
   "source": [
    "## Inference"
   ]
  },
  {
   "cell_type": "markdown",
   "metadata": {},
   "source": [
    "### Step 0: Set Up environment"
   ]
  },
  {
   "cell_type": "markdown",
   "metadata": {},
   "source": [
    "First, you need to use VSCode to login to the login node.\n",
    "\n",
    "Then open this file and select ipykernel to be the weburl you get in the README.md.\n",
    "\n",
    "If success, the next block will output True."
   ]
  },
  {
   "cell_type": "code",
   "execution_count": 1,
   "metadata": {},
   "outputs": [
    {
     "data": {
      "text/plain": [
       "True"
      ]
     },
     "execution_count": 1,
     "metadata": {},
     "output_type": "execute_result"
    }
   ],
   "source": [
    "import torch\n",
    "torch.cuda.is_available()"
   ]
  },
  {
   "cell_type": "markdown",
   "metadata": {},
   "source": [
    "### Step 1: Process Data"
   ]
  },
  {
   "cell_type": "code",
   "execution_count": 3,
   "metadata": {},
   "outputs": [],
   "source": [
    "import json\n",
    "\n",
    "data_file = \"ControlBench_rubric.json\"\n",
    "\n",
    "with open(data_file, 'r') as f:\n",
    "    data = json.load(f)\n",
    "\n",
    "questions = [e['Question']['Text'] for e in data]\n",
    "\n",
    "solutions = [[meta_e['Text'] for meta_e in e['Solution']['ReasoningSteps']] if 'ReasoningSteps' in e['Solution'] else [] for e in data]"
   ]
  },
  {
   "cell_type": "code",
   "execution_count": 4,
   "metadata": {},
   "outputs": [
    {
     "name": "stdout",
     "output_type": "stream",
     "text": [
      "Question 0:  Determine the transfer function of a linear time invariant (LTI) system given the following information: The system has relative degree 3. It has 3 poles, of which 2 are at -2 and -4. The impulse response resembles a step response for a stable linear system with a steady state value of 0.25.\n",
      "Solution 0:  ['The system has a relative degree 3 with 3 poles, hence it has no finite zeros.', 'With 3 poles, the transfer function takes the general form G(s) = K / [A(s)(s + 2)(s + 4)].', 'Since the impulse response resembles a step response with a steady state value, we conclude the system must contain a pole at zero. Therefore, the transfer function is of the form G(s) = K / [s(s + 2)(s + 4)].', 'Using the final value theorem to determine K, we evaluate lim(s -> 0) sG(s) and obtain K / 8 = 0.25.', 'Solving the equation, we find K = 2.', 'Thus, the transfer function of the system is G(s) = 2 / [s(s + 2)(s + 4)].']\n"
     ]
    }
   ],
   "source": [
    "print('Question 0: ', questions[0])\n",
    "print('Solution 0: ', solutions[0])"
   ]
  },
  {
   "cell_type": "markdown",
   "metadata": {},
   "source": [
    "### Step 1: Load models into vLLM engine"
   ]
  },
  {
   "cell_type": "code",
   "execution_count": 4,
   "metadata": {},
   "outputs": [
    {
     "name": "stderr",
     "output_type": "stream",
     "text": [
      "/u/ziqiw9/envs/miniforge3/envs/llm4eng/lib/python3.10/site-packages/tqdm/auto.py:21: TqdmWarning: IProgress not found. Please update jupyter and ipywidgets. See https://ipywidgets.readthedocs.io/en/stable/user_install.html\n",
      "  from .autonotebook import tqdm as notebook_tqdm\n",
      "2024-11-02 16:21:28,133\tINFO util.py:154 -- Missing packages: ['ipywidgets']. Run `pip install -U ipywidgets`, then restart the notebook server for rich notebook output.\n"
     ]
    },
    {
     "name": "stdout",
     "output_type": "stream",
     "text": [
      "WARNING 11-02 16:21:34 arg_utils.py:957] Chunked prefill is enabled by default for models with max_model_len > 32K. Currently, chunked prefill might not work with some features or models. If you encounter any issues, please disable chunked prefill by setting --enable-chunked-prefill=False.\n",
      "INFO 11-02 16:21:34 config.py:1021] Chunked prefill is enabled with max_num_batched_tokens=512.\n",
      "INFO 11-02 16:21:34 llm_engine.py:237] Initializing an LLM engine (v0.6.3.post1) with config: model='/u/ziqiw9/LLMs/Llama-3.1-8B-Instruct', speculative_config=None, tokenizer='/u/ziqiw9/LLMs/Llama-3.1-8B-Instruct', skip_tokenizer_init=False, tokenizer_mode=auto, revision=None, override_neuron_config=None, rope_scaling=None, rope_theta=None, tokenizer_revision=None, trust_remote_code=False, dtype=torch.bfloat16, max_seq_len=131072, download_dir=None, load_format=LoadFormat.AUTO, tensor_parallel_size=1, pipeline_parallel_size=1, disable_custom_all_reduce=False, quantization=None, enforce_eager=False, kv_cache_dtype=auto, quantization_param_path=None, device_config=cuda, decoding_config=DecodingConfig(guided_decoding_backend='outlines'), observability_config=ObservabilityConfig(otlp_traces_endpoint=None, collect_model_forward_time=False, collect_model_execute_time=False), seed=0, served_model_name=/u/ziqiw9/LLMs/Llama-3.1-8B-Instruct, num_scheduler_steps=1, chunked_prefill_enabled=True multi_step_stream_outputs=True, enable_prefix_caching=False, use_async_output_proc=True, use_cached_outputs=False, mm_processor_kwargs=None)\n",
      "INFO 11-02 16:21:35 model_runner.py:1056] Starting to load model /u/ziqiw9/LLMs/Llama-3.1-8B-Instruct...\n"
     ]
    },
    {
     "name": "stderr",
     "output_type": "stream",
     "text": [
      "Loading safetensors checkpoint shards:   0% Completed | 0/4 [00:00<?, ?it/s]\n",
      "Loading safetensors checkpoint shards:  25% Completed | 1/4 [00:07<00:21,  7.25s/it]\n",
      "Loading safetensors checkpoint shards:  50% Completed | 2/4 [00:15<00:16,  8.04s/it]\n",
      "Loading safetensors checkpoint shards:  75% Completed | 3/4 [00:17<00:05,  5.30s/it]\n",
      "Loading safetensors checkpoint shards: 100% Completed | 4/4 [00:26<00:00,  6.43s/it]\n",
      "Loading safetensors checkpoint shards: 100% Completed | 4/4 [00:26<00:00,  6.51s/it]\n",
      "\n"
     ]
    },
    {
     "name": "stdout",
     "output_type": "stream",
     "text": [
      "INFO 11-02 16:22:03 model_runner.py:1067] Loading model weights took 14.9888 GB\n",
      "INFO 11-02 16:22:03 gpu_executor.py:122] # GPU blocks: 28161, # CPU blocks: 2048\n",
      "INFO 11-02 16:22:03 gpu_executor.py:126] Maximum concurrency for 131072 tokens per request: 3.44x\n",
      "INFO 11-02 16:22:05 model_runner.py:1395] Capturing the model for CUDA graphs. This may lead to unexpected consequences if the model is not static. To run the model in eager mode, set 'enforce_eager=True' or use '--enforce-eager' in the CLI.\n",
      "INFO 11-02 16:22:05 model_runner.py:1399] CUDA graphs can take additional 1~3 GiB memory per GPU. If you are running out of memory, consider decreasing `gpu_memory_utilization` or enforcing eager mode. You can also reduce the `max_num_seqs` as needed to decrease memory usage.\n",
      "INFO 11-02 16:22:16 model_runner.py:1523] Graph capturing finished in 11 secs.\n"
     ]
    }
   ],
   "source": [
    "from vllm import LLM, SamplingParams\n",
    "\n",
    "model_path = \"/u/ziqiw9/LLMs/Llama-3.1-8B-Instruct\"\n",
    "\n",
    "llm = LLM(model=model_path, trust_remote_code=False, tensor_parallel_size=1)"
   ]
  },
  {
   "cell_type": "code",
   "execution_count": 15,
   "metadata": {},
   "outputs": [],
   "source": [
    "stop_token_ids = [128009] # for llama 3\n",
    "n_per_q = 10\n",
    "sampling_params = SamplingParams(n=n_per_q, temperature=0.8, top_p=1, seed=123, max_tokens=2048, stop_token_ids=stop_token_ids)"
   ]
  },
  {
   "cell_type": "markdown",
   "metadata": {},
   "source": [
    "Load tokenizer to deal with processing"
   ]
  },
  {
   "cell_type": "code",
   "execution_count": 6,
   "metadata": {},
   "outputs": [],
   "source": [
    "from transformers import AutoTokenizer\n",
    "\n",
    "tokenizer = AutoTokenizer.from_pretrained(model_path)"
   ]
  },
  {
   "cell_type": "markdown",
   "metadata": {},
   "source": [
    "## Step 1.5: You can play with examples you like"
   ]
  },
  {
   "cell_type": "code",
   "execution_count": 7,
   "metadata": {},
   "outputs": [
    {
     "name": "stderr",
     "output_type": "stream",
     "text": [
      "Processed prompts: 100%|██████████████████████████████████████████████████████████████████████████████████████████████| 2/2 [00:00<00:00,  6.53it/s, est. speed input: 261.63 toks/s, output: 101.38 toks/s]\n"
     ]
    }
   ],
   "source": [
    "prompts = [\n",
    "    \"Who are you?\",\n",
    "    \"1+1=?\"\n",
    "]\n",
    "\n",
    "prompts = [tokenizer.apply_chat_template(\n",
    "    [{\"role\": \"user\", \"content\": e}],\n",
    "    add_generation_prompt=True,\n",
    "    tokenize=False,\n",
    ") for e in prompts]\n",
    "\n",
    "# print(prompts)\n",
    "\n",
    "outputs = llm.generate(prompts, sampling_params)"
   ]
  },
  {
   "cell_type": "code",
   "execution_count": 8,
   "metadata": {},
   "outputs": [
    {
     "name": "stdout",
     "output_type": "stream",
     "text": [
      "Prompt: '<|begin_of_text|><|start_header_id|>system<|end_header_id|>\\n\\nCutting Knowledge Date: December 2023\\nToday Date: 26 Jul 2024\\n\\n<|eot_id|><|start_header_id|>user<|end_header_id|>\\n\\nWho are you?<|eot_id|><|start_header_id|>assistant<|end_header_id|>\\n\\n', \n",
      " Generated text: 'I\\'m an artificial intelligence model known as Llama. Llama stands for \"Large Language Model Meta AI.\"' \n",
      " ---------------- \n",
      "\n",
      "Prompt: '<|begin_of_text|><|start_header_id|>system<|end_header_id|>\\n\\nCutting Knowledge Date: December 2023\\nToday Date: 26 Jul 2024\\n\\n<|eot_id|><|start_header_id|>user<|end_header_id|>\\n\\n1+1=?<|eot_id|><|start_header_id|>assistant<|end_header_id|>\\n\\n', \n",
      " Generated text: '1 + 1 = 2' \n",
      " ---------------- \n",
      "\n"
     ]
    }
   ],
   "source": [
    "for output in outputs:\n",
    "    prompt = output.prompt\n",
    "    generated_text = output.outputs[0].text\n",
    "    print(f\"Prompt: {prompt!r}, \\n Generated text: {generated_text!r} \\n ---------------- \\n\")"
   ]
  },
  {
   "cell_type": "markdown",
   "metadata": {},
   "source": [
    "## Step 2: Get output for ControlBench"
   ]
  },
  {
   "cell_type": "code",
   "execution_count": 11,
   "metadata": {},
   "outputs": [
    {
     "name": "stderr",
     "output_type": "stream",
     "text": [
      "Processed prompts: 100%|████████████████████████████████████████████████████████████████████████████████████████████| 13/13 [00:44<00:00,  3.46s/it, est. speed input: 29.76 toks/s, output: 2685.34 toks/s]\n"
     ]
    }
   ],
   "source": [
    "questions_processed = [tokenizer.apply_chat_template(\n",
    "    [{\"role\": \"user\", \"content\": e}],\n",
    "    add_generation_prompt=True,\n",
    "    tokenize=False,\n",
    ") for e in questions]\n",
    "\n",
    "# print(prompts)\n",
    "\n",
    "answers = llm.generate(questions_processed, sampling_params)"
   ]
  },
  {
   "cell_type": "code",
   "execution_count": 13,
   "metadata": {},
   "outputs": [
    {
     "name": "stdout",
     "output_type": "stream",
     "text": [
      "Prompt: '<|begin_of_text|><|start_header_id|>system<|end_header_id|>\\n\\nCutting Knowledge Date: December 2023\\nToday Date: 26 Jul 2024\\n\\n<|eot_id|><|start_header_id|>user<|end_header_id|>\\n\\nDetermine the transfer function of a linear time invariant (LTI) system given the following information: The system has relative degree 3. It has 3 poles, of which 2 are at -2 and -4. The impulse response resembles a step response for a stable linear system with a steady state value of 0.25.<|eot_id|><|start_header_id|>assistant<|end_header_id|>\\n\\n', \n",
      " Generated text: \"Given the information, we need to find the transfer function of the linear time invariant (LTI) system.\\n\\nFrom the given information:\\n\\n1. The system has a relative degree of 3.\\n2. It has 3 poles, of which 2 are at -2 and -4, and one is unknown.\\n3. The impulse response resembles a step response for a stable linear system with a steady-state value of 0.25.\\n\\nTo find the transfer function, we can start by assuming the structure of the system in terms of its poles and zero dynamics.\\n\\nThe transfer function of a 3rd order system can be represented as a ratio of a polynomial of degree n (where n=3 in this case) to a polynomial of the same degree: \\n\\nc(s) = (a1*s^n + a2*s^(n-1) + ... + a0) / (s^n + b1*s^(n-1) + ... + b0)\\n\\nThe relative degree of the system is 3, so we can start with a numerator of the form c(s) = (s^3 + a2*s^2 + a1*s + a0) / (s^3 + b2*s^2 + b1*s + b0).\\n\\nWe know that two poles are at -2 and -4. This implies that the denominator will have the form (s+2)^2 and (s+4), so we can write the denominator as (s+2)^2(s+4).\\n\\nThus, we have the initial form of the transfer function:\\n\\nc(s) = (s^3 + a2*s^2 + a1*s + a0) / ((s+2)^2(s+4))\\n\\nNow, we know that the system's steady-state response to a step input is 0.25. In order to achieve this, we can use the final value theorem of the Laplace transform, which states that as s approaches zero, the value of Y(s)/X(s) approaches the limit of Y(t) as t approaches infinity.\\n\\nLet's assume that the input X(s) = 1/s (a step input) and Y(s) is the output. We know that Y(s)/X(s) = c(s) = c(0) = 0.25 as s approaches zero.\\n\\nHowever, we also know that c(0) is the coefficient 'a0' of the numerator.\\n\\nThis leads to the conclusion that 'a0' = 0.25.\\n\\nTo determine the other coefficients of the numerator, we can use the zero dynamics of the system. We can find the remaining two zeroes of the system by taking the roots of the numerator as (s+1), (s+3), and (s+2)^(a double root has been incorporated), however, we must eliminate (s+2) as it is a pole of the system, so we take the remaining root to be (s+3).\\n\\nNow, the numerator can be written as (s+1)(s+3)(s+2)^2  = (s^3 + 5s^2 + 10s + 12).\\n\\nThus, we can write the final form of the transfer function as\\n\\nc(s) = (s^3 + 5s^2 + 10s + 12) / ((s+2)^2(s+4))\\nc(s) = (s+1)(s+3)(s+2)^2 / ((s+2)^2(s+4))\\nc(s) = (s+1)(s+3)/(s+4)\\nc(s) = ((s+1)(s+3)) / ((s+4))\\n\\nTherefore, the transfer function of the system is ((s+1)(s+3)) / ((s+4)).\" \n",
      " ---------------- \n",
      "\n",
      "Prompt: '<|begin_of_text|><|start_header_id|>system<|end_header_id|>\\n\\nCutting Knowledge Date: December 2023\\nToday Date: 26 Jul 2024\\n\\n<|eot_id|><|start_header_id|>user<|end_header_id|>\\n\\nDetermine the transfer function of a linear time invariant (LTI) system given the following information: The system has relative degree 3. It has 3 poles, of which 2 are at -2 and -4. The impulse response resembles a step response for a stable linear system with a steady state value of 0.25.<|eot_id|><|start_header_id|>assistant<|end_header_id|>\\n\\n', \n",
      " Generated text: \"To determine the transfer function of the system, we first need to recall the relationship between the impulse response and the transfer function. The impulse response of a system is the output of the system when the input is a unit impulse. The transfer function of a system is the ratio of the Laplace transform of the output to the Laplace transform of the input.\\n\\nGiven that the system has a relative degree of 3, it means that the system's impulse response has 3 terms in its numerator. Since the system has a steady-state value of 0.25 when the input is a unit step, we can determine the numerator of the transfer function.\\n\\nThe transfer function of a first-order system is of the form:\\nH(s) = (K * s^n) / (s + p)\\n\\nwhere K is a constant, 'p' is the pole, and 'n' is the numerator order.\\n\\nHowever, since the system is of relative degree 3, its transfer function is likely of the form:\\nH(s) = (K * s^3 + K1 * s^2 + K2 * s + K3) / (s + 2)^2 * (s + 4)\\n\\nWe know that the system has two poles at -2, so there is a repeated first-order term in the denominator. \\n\\nSince the impulse response resembles a step response for a stable linear system with a steady-state value of 0.25, we can assume that the system is a type 1 system, which means that the steady-state error is zero when the input is a constant. \\n\\nThe Laplace transform of a step function is 1/s, so the transfer function of the system should have a zero at the origin (s = 0). This implies that the numerator of the transfer function must contain a constant term.\\n\\nThe transfer function of the system is H(s) = (K3 + K2 * s + K1 * s^2 + s^3) / (s + 2)^2 * (s + 4)\\n\\nNow we need to determine the values of K1, K2, and K3. However, the problem doesn't provide us with enough information to determine these values uniquely.\\n\\nHowever, we can try to find a possible transfer function for this system. Since the steady-state value of the impulse response is 0.25, we can assume that the system is of the form:\\nH(s) = (s^3 + K * s^2 + K * s + 0.25) / (s + 2)^2 * (s + 4)\\n\\nSince the system has relative degree 3, the leading term in the numerator is s^3. We need to determine the coefficients of the remaining terms in the numerator.\\n\\nAs we know, the system has two poles at -2, so (s + 2)^2 is a factor in the denominator. To have this factor in the denominator, the numerator must have the factor (s + 2)^2. However, since the system is of relative degree 3, the numerator cannot have a factor of s^2.\\n\\nThis might seem like a contradiction, but it is not, because the system could have a numerator of the form s^3 + K * s^2 * (s + 2)^2 / (s + 2)^2 + K * s * (s + 2)^2 / (s + 2)^2 + 0.25.\\n\\nHowever, since the system is of relative degree 3, the numerator is of the form (s^3 + K1 * s^2 + K2 * s). The (s + 2)^2 term in the denominator would be canceled by a term in the numerator. We can express this as (s^3 + K1 * s^2 + K2 * s) = (s^3 + K3) + (s^2 * K1) + (s * K2) = (s + 2)^2 * (s + 4) * (As + B) / (s + 2)^2.\\n\\nExpanding the right-hand side of the equation, we obtain:\\ns^3 + K1 * s^2 + K2 * s = (s + 4) * (As + B) + 2^2 * (As + B)\\n\\nComparing the coefficients of the s^2 terms on both sides, we have:\\nK1 = A + 4B + 4\\n\\nComparing the coefficients of the s terms on both sides, we have:\\nK2 = 4A + 4B\\n\\nComparing the constant terms on both sides, we have:\\n0 = 4B\\n\\nThis implies that B = 0.\\n\\nNow we can determine the values of A and B. However, the problem doesn't provide us with enough information to determine these values uniquely.\\n\\nHowever, we can try to find a possible transfer function for this system. Since the steady-state value of the impulse response is 0.25, we can assume that the system is of the form:\\nH(s) = (s^3 + K * s^2 + K * s) / (s + 2)^2 * (s + 4)\\n\\nSince the system has relative degree 3, the leading term in the numerator is s^3. We need to determine the remaining terms in the numerator.\\n\\nAs we know, the system has two poles at -2 and -4, so (s + 2)^2 * (s + 4) is a factor in the denominator. \\n\\nTo have this factor in the denominator, the numerator must have the factor (s + 2)^2. However, since the system is of relative degree 3, the numerator cannot have a factor of s^2.\\n\\nThis might seem like a contradiction, but it is not, because the system could have a numerator of the form s^3 + K * s * (s + 2)^2 / (s + 2)^2 + 0.25 * (s + 4).\\n\\nHowever, since the system is of relative degree 3, the numerator is of the form (s^3 + K1 * s^2 + K2 * s). The (s + 2)^2 term in the denominator would be canceled by a term in the numerator. We can express this as (s^3 + K1 * s^2 + K2 * s) = (s^3 + 0.25 * (s + 4)) + K * s * (s + 2)^2 / (s + 2)^2.\\n\\nExpanding the right-hand side of the equation, we obtain:\\ns^3 + K1 * s^2 + K2 * s = s^3 + 1 + K * s + 4K\\n\\nComparing the coefficients of the s^2 terms on both sides, we have:\\nK1 = 0\\n\\nComparing the coefficients of the s terms on both sides, we have:\\nK2 = 4 + K\\n\\nComparing the constant terms on both sides, we have:\\n0 = 1 + 4K\\n\\nThis implies that K = -0.25.\\n\\nNow we can determine the values of K1 and K2. We have K1 = 0, K2 = 4 + K = 3.75.\\n\\nSo the system's transfer function could be:\\nH(s) = (s^3 + 3.75 * s) / (s + 2)^2 * (s + 4).\\n\\nHowever, the problem doesn't provide us with enough information to determine the transfer function uniquely, and there may be other possible transfer functions for this system.\" \n",
      " ---------------- \n",
      "\n",
      "Prompt: '<|begin_of_text|><|start_header_id|>system<|end_header_id|>\\n\\nCutting Knowledge Date: December 2023\\nToday Date: 26 Jul 2024\\n\\n<|eot_id|><|start_header_id|>user<|end_header_id|>\\n\\nDetermine the transfer function of a linear time invariant (LTI) system given the following information: The system has relative degree 3. It has 3 poles, of which 2 are at -2 and -4. The impulse response resembles a step response for a stable linear system with a steady state value of 0.25.<|eot_id|><|start_header_id|>assistant<|end_header_id|>\\n\\n', \n",
      " Generated text: \"To find the transfer function of the system, we need to use the given information and apply the properties of LTI systems.\\n\\nSince the relative degree of the system is 3, the transfer function can be represented as:\\n\\nH(s) = (A * s^3 + B * s^2 + C * s + D) / (s^3 + E * s^2 + F * s + G)\\n\\nWe know that the poles of the system are -2 and -4. Since the relative degree is 3, the numerator of the transfer function has a degree of 3, so there are no poles in the numerator. The denominator represents the poles of the system, which is a third-order polynomial. Given the poles, we can write the denominator as (s + 2)(s + 4)(s + p), where 'p' is the third pole.\\n\\nWe also know that the impulse response resembles a step response for a stable linear system. From the given information, we know that the steady state value of the step response is 0.25. The steady state value of the step response of an LTI system can be obtained by taking the limit of the transfer function as s approaches 0. Therefore:\\n\\nlim (s→0) H(s) = 0.25\\n\\nWe can simplify the transfer function equation by multiplying both the numerator and denominator by (s + p):\\n\\nH(s) = (A * s^3 + B * s^2 + C * s + D) / ((s + 2)(s + 4)(s + p))\\n\\nTo find the steady state value, we substitute s = 0 into the equation:\\n\\nlim (s→0) H(s) = (D) / (2*4*p) = 0.25\\n\\nSolving for D, we get:\\n\\nD = 0.25 * 2 * 4 * p = p\\n\\nNow, let's use another property of LTI systems: the final value theorem. It states that the final value of the step response is equal to the steady state value. This information can also be used to determine the value of the third pole 'p'. Since we are given that the system has a relative degree of 3, we know that there are three derivatives. Let's use this to our advantage and apply the final value theorem to the first three derivatives of the step response. If the system is at steady state, its derivatives will also be zero after a certain time. Applying this to the third derivative and setting it equal to zero, we can find the value of 'p'.\\n\\nHowever, we are given only that the system has a steady state value, not the derivatives. In that case we can try applying the final value theorem which is considered applicable when we have the final value of the output. Since this can only be solved through guess and check, note that the roots of the denominator polynomial are -2, -4, and -p. The number of roots determines the order, and in our case, we have three roots. The denominator is (s + 2)(s + 4)(s + p) and must therefore be of the third order.\\n\\nNow we have the following expression for H(s):\\n\\nH(s) = (A * s^3 + B * s^2 + C * s + p) / ((s + 2)(s + 4)(s + p))\\n\\nWe know that the steady state value of the step response is lim (s→0) H(s) = 1, and that is equal to p. However, we know it is 0.25. We are now able to rewrite the equation: H(s) = (A * s^3 + B * s^2 + C * s + 0.25) / ((s + 2)(s + 4)(s + p)).\\n\\nNow, multiply this equation by (s + p) / (s + p) to get:\\n\\nH(s) = ((A * s^3 + B * s^2 + C * s + 0.25)*(s + p)) / ((s + 2)(s + 4)(s + p)).\\n\\nNow we expand the numerator to get:\\n\\nH(s) = (A*s^4 + A*p*s^3 + B*s^3 + B*p*s^2 + C*s^2 + C*p*s + 0.25*s + 0.25*p) / ((s + 2)(s + 4)(s + p))\\n\\nThe denominator is (s + 2)(s + 4)(s + p) so we can divide the terms in the numerator by matching the terms in the denominator.\\n\\nThe transfer function is now in its final form.\" \n",
      " ---------------- \n",
      "\n",
      "Prompt: '<|begin_of_text|><|start_header_id|>system<|end_header_id|>\\n\\nCutting Knowledge Date: December 2023\\nToday Date: 26 Jul 2024\\n\\n<|eot_id|><|start_header_id|>user<|end_header_id|>\\n\\nDetermine the transfer function of a linear time invariant (LTI) system given the following information: The system has relative degree 3. It has 3 poles, of which 2 are at -2 and -4. The impulse response resembles a step response for a stable linear system with a steady state value of 0.25.<|eot_id|><|start_header_id|>assistant<|end_header_id|>\\n\\n', \n",
      " Generated text: \"To determine the transfer function of the LTI system, we need to first establish the order of the system based on the given relative degree, poles, and the information that the steady state value of the step response is 0.25. Since the system has a relative degree of 3, it has three zeros, which are the number of poles that must be canceled in the numerator to cause the system to have this relative degree.\\n\\nIt is given that two of the poles are at -2 and -4. Therefore, the system can be described by the following poles in the characteristic equation of its transfer function:\\n\\n\\\\( s + 2 \\\\) and \\\\( s + 4 \\\\) \\n\\nSince there are three poles and the system has a relative degree of 3, we need three zeros to cancel three of the poles in the numerator of the transfer function.\\n\\nLet's assume the other pole in the system is a zero-order pole at the origin i.e., \\\\( s = 0 \\\\), or a simple pole at infinity. We can establish a general form for the transfer function with the three poles as:\\n\\n\\\\[ H(s) = \\\\frac{K}{s(s+2)(s+4)} \\\\]\\n\\nHowever, this transfer function has a steady state value of 0 that we are told is 0.25. This steady state value, with a unit step input and no steady state error for an LTI system is determined by the gain of the system. To achieve a steady state value of 0.25, the constant \\\\( K \\\\) in our transfer function must be 0.25.\\n\\nTherefore, the transfer function is given as:\\n\\n\\\\[ H(s) = \\\\frac{0.25}{s(s+2)(s+4)} \\\\]\" \n",
      " ---------------- \n",
      "\n",
      "Prompt: '<|begin_of_text|><|start_header_id|>system<|end_header_id|>\\n\\nCutting Knowledge Date: December 2023\\nToday Date: 26 Jul 2024\\n\\n<|eot_id|><|start_header_id|>user<|end_header_id|>\\n\\nDetermine the transfer function of a linear time invariant (LTI) system given the following information: The system has relative degree 3. It has 3 poles, of which 2 are at -2 and -4. The impulse response resembles a step response for a stable linear system with a steady state value of 0.25.<|eot_id|><|start_header_id|>assistant<|end_header_id|>\\n\\n', \n",
      " Generated text: \"Given the information provided:\\n\\n* Relative degree of the system: 3\\n* 2 poles at -2 and -4\\n* Steady-state value of the step response: 0.25\\n\\nWe know that a transfer function of an LTI system is given by:\\n\\nH(s) = N(s) / D(s)\\n\\nWhere:\\n- N(s) is the numerator polynomial\\n- D(s) is the denominator polynomial\\n\\nFor a system with relative degree 3, the impulse response of the system must have at least 3 zero-crossings before settling. \\n\\nThe poles of the system are at -2 and -4. Therefore, the denominator D(s) of the transfer function has factors (s+2) and (s+4).\\n\\nSince the relative degree of the system is 3, we need to have 3 poles and 3 zeros. The third pole could be at infinity, which does not affect the system's behavior. However, the system has a zero at infinity because of the pole at infinity. \\n\\nThus, D(s) = s(s+2)(s+4)\\n\\nConsidering the steady-state value of the step response is 0.25, this means that the DC gain of the system is 0.25. The steady-state value of a step response of an LTI system is equal to the DC gain of the system.\\n\\nThe DC gain of a system is given by the ratio of the coefficients of the highest power of s to the lowest power of s in N(s)/D(s).\\n\\nTherefore, N(s)/s^3 from the DC gain is (DC gain) * D(s), which is (0.25 * s^3 * 3) / s^3 evaluated at s=0.\\nN(s) can be 0.75s^3.\\n\\nHowever, the system is of order 3, and it has a zero at infinity, so the numerator N(s) should be (s^3 - (sum of zeros))s^3. Since the relative degree of the system is 3, we can find the zeros by equating N(s)/D(s) to the DC gain, and D(s) to (s^3 + (sum of poles))s^3\\n\\nSince the denominator is s(s+2)(s+4), the sum of poles is -6. However, the system has a zero at infinity so D(s) = s^3 + 6s^3. Hence D'(s) = s^3 + 6s^3 = 7s^3.\\n\\nHowever, the numerator from the given * D(s) is 0.75s^3, but there is also a zero that when multiplied with D(s) gives 0.75s^3. So we have N(s) = (s^3 - pole)s^3, which equals 0.75s^3. The pole of the factor of the numerator is -0.25.\\n\\nTherefore, the transfer function is N(s)/D(s) = (s^3 - (-0.25)s^3)/ (s^3 + 6s^3)\\n\\nwhich equals (s^3 + 0.25s^3) / (7s^3).\\n\\nWe can simplify this into (s^3(1 +0.25))/7s^3, then simplify further to (1+0.25)/7 which is 7/28 = 1/4.\\n\\nThe transfer function equals 1/4.\" \n",
      " ---------------- \n",
      "\n",
      "Prompt: '<|begin_of_text|><|start_header_id|>system<|end_header_id|>\\n\\nCutting Knowledge Date: December 2023\\nToday Date: 26 Jul 2024\\n\\n<|eot_id|><|start_header_id|>user<|end_header_id|>\\n\\nDetermine the transfer function of a linear time invariant (LTI) system given the following information: The system has relative degree 3. It has 3 poles, of which 2 are at -2 and -4. The impulse response resembles a step response for a stable linear system with a steady state value of 0.25.<|eot_id|><|start_header_id|>assistant<|end_header_id|>\\n\\n', \n",
      " Generated text: \"To determine the transfer function of the system, we can use the following steps:\\n\\n1.  The impulse response of an LTI system is given by the unit impulse response, h(t), which is the output of the system when the input is a unit impulse. It's also equal to the inverse Laplace transform of the transfer function, H(s) = L^-1{-1/(sH(s))}.\\n2.  We can find the transfer function from the impulse response. The general form of the transfer function H(s) = ∫∞ 0 h(t)e^(-st)dt = L{h(t)}. Since the impulse response is the derivative of the step response, we can first find the Laplace transform of the step response and use it to find the Laplace transform of the impulse response. The Laplace transform of the step response is L[y_ss(t)] = 1/s * H(s).\\n3.  Given that the steady state value of the step response is 0.25, we can set s → 0 to get the transfer function. However, to find the transfer function, we need the numerator of the system H(s), which for a third-order system with 3 poles, can be written as a numerator of the form as: (A)(s-z1)(s-z2)(s-z3), with 2 poles being already determined at s=-2 and s=-4. The pole at s=-2 will contribute two roots(z2 and z3), -2 and -2. The other pole and pole at s=-4 contributes a root at z1 = -4. We can now write the system as (s+2)(s+2)(s+4)(s-A)/((s+2)^2(s+4)) to satisfy the given information about the poles.\\n\\nTo satisfy the steady-state condition, we have to evaluate the numerator of H(s) as s approaches zero. The result of this is A= -3/8.\\n\\nTherefore, the transfer function of the system, H(s) = (-3/8) / ((s+2)^2(s+4))\" \n",
      " ---------------- \n",
      "\n",
      "Prompt: '<|begin_of_text|><|start_header_id|>system<|end_header_id|>\\n\\nCutting Knowledge Date: December 2023\\nToday Date: 26 Jul 2024\\n\\n<|eot_id|><|start_header_id|>user<|end_header_id|>\\n\\nDetermine the transfer function of a linear time invariant (LTI) system given the following information: The system has relative degree 3. It has 3 poles, of which 2 are at -2 and -4. The impulse response resembles a step response for a stable linear system with a steady state value of 0.25.<|eot_id|><|start_header_id|>assistant<|end_header_id|>\\n\\n', \n",
      " Generated text: \"To determine the transfer function of the LTI system, we can use the given information step by step:\\n\\n1. **Relative degree**: Since the relative degree is 3, this means that the system's transfer function can be expressed in the form:\\n\\nH(s) = (numerator) / (s^3 * (s+2) * (s+4))\\n\\n   or other factors, depending on the numerator. The relative degree is the difference between the denominator's degree and the numerator's degree.\\n\\n2. **Poles**: Given two poles at s=-2 and s=-4, we know two terms in the denominator of the transfer function are:\\n\\n(s+2) and (s+4)\\n\\n3. **Steady-state value**: Since the steady-state value of the impulse response is 0.25, the system has a DC gain of 0.25. This implies that the system's DC gain is the limit of the transfer function as s approaches 0. In other words:\\n\\nlim(s→0) H(s) = 0.25\\n\\n   Since the numerator's order is not given, we denote it as s^n, and we know the system has lim(s→0) H(s) = lim(s→0) (s^n) / (s^3 * (s+2) * (s+4)) = 0.25. Thus,\\n   n = 3.\\n\\n4. **Numerator's form**: Now that the degree of the numerator is 3, we can denote it as s^3 + other terms. However, the steady-state value (or DC gain) is given, so the coefficient of s^0 (i.e., the constant term in the numerator) must be 0.25 * 8 (which is from s^3 * (s+2) * (s+4), in the denominator) = 2.\\n\\n   This results in a numerator of s^3 + other terms. Other terms include s^2, s, and a constant term. Let's assume they are b1, b2, and b3 respectively, so s^3 + b1 * s^2 + b2 * s + 2.\\n\\n   Since we do not know b1 and b2, we need more information to find the exact form of the numerator, but we can say that it is s^3 + b1*s^2 + b2*s + 2.\\n\\n   p(s) = s^3 + b1*s^2 + b2*s + 2\\n\\n5. **Final form of the transfer function**: \\n\\n   H(s) = s^3 + b1*s^2 + b2*s + 2 / (s^3 * (s+2) * (s+4))\\n\\n   The denominator's degree is higher than the numerator's degree, which is good since the relative degree is 3.\\n\\n6. **To get the final form of H(s), b1 and b2 need to be found. Assume there is a pair of zeros or poles at -3, then apply the final form of the transfer function in the equation of the given relative degree so that when s is -3 the denominator is zero.**\\n\\n   This will give you the values of b1 and b2 to solve this issue. However, in this case, we can follow an alternative approach given below:\\n\\n   **The given poles are s = -2 and s = -4, and there are two zeros at s = -3, with no values known for b1 and b2**.\\n\\n   Let the zeros be s = -3 with multiplicities 2.\\n\\n   Since two of the roots of the numerator have been found, give us the numerator as\\n\\n   p(s) = A * (s+3) * (s+3) * (s+λ)\\n\\n   We know that p(s) = s^3 + b1*s^2 + b2*s + 2. We can then write s^3 + b1*s^2 + b2*s + 2 = A * (s+3) * (s+3) * (s+λ)\\n\\n\\n   So, we expand the right-hand side and match coefficients of like terms: (s^3 + 6*s^2 + (9 + λ)*s + 9A).\\n   -1 = A\\n   -6 = 6A\\n   -b2 (coefficient of s) = 9 + λ\\n   2 = 9A.\\n\\n   Now we know the value of A and we can substitute in and simplify:\\n   A = -1.\\n   9 + λ = -b2\\n\\n   We also know that 2 = 9A. Solving this gives us:\\n   A = -2/9\\n   (This conflicts with A = -1 from before and has been discarded to keep the process simple).\\n\\n   A = -1 = Not valid here so we have to re-evaluate A\\n   We also know that A * 9 = 2\\n   thus A = 2/9\\n   Now -b2 (coefficient of s) = 9 + λ\\n   b2 = -9 - λ\\n\\n   -1 = A\\n   -1 = 2/9\\n   This is a contradiction. The correct information stated that A = -2/9. Hence we discard this answer\\n   From 2 = 9A we get A = 2/9 and thus -9 - λ = -b2.\\n   Therefore, b2 = 9 + λ\\n\\n   -b2 = 9 + λ -> b2 = -9 - λ\\n   since A = -2/9, then λ = 9A = 18/9 = 2.\\n\\n   Therefore, b2 = -9 - 2 = -11\\n\\n   And finally, the numerator becomes p(s) = -s^3 -11*s^2 + 2*s + 2.\" \n",
      " ---------------- \n",
      "\n",
      "Prompt: '<|begin_of_text|><|start_header_id|>system<|end_header_id|>\\n\\nCutting Knowledge Date: December 2023\\nToday Date: 26 Jul 2024\\n\\n<|eot_id|><|start_header_id|>user<|end_header_id|>\\n\\nDetermine the transfer function of a linear time invariant (LTI) system given the following information: The system has relative degree 3. It has 3 poles, of which 2 are at -2 and -4. The impulse response resembles a step response for a stable linear system with a steady state value of 0.25.<|eot_id|><|start_header_id|>assistant<|end_header_id|>\\n\\n', \n",
      " Generated text: \"To determine the transfer function of the system, we need to find the zeros of the system. Since the system has a relative degree of 3, that means that the transfer function has 3 zeros at the origin (i.e., s=0).\\n\\nGiven that the impulse response resembles a step response of a stable system with a steady-state value of 0.25, we know that one of the zeros is at the origin. \\n\\nSince the impulse response is a step response, it is the result of the system being a repeated pole or multiple zeros at the origin. To have a step response, the system must have zeros at the origin with multiplicity of at least two. However, since the relative degree of the system is 3, there can't be multiple zeros at the origin. Therefore, it is more likely that the system has a repeated pole at the origin (more on this in a moment). \\n\\nSince the impulse response of a system with a repeated pole of multiplicity n at the origin is a step response, the pole-zero cancel out in the frequency response for the DC component, we don't have to find the zeros of the system. The system has 2 poles that aren't at the origin. We know that 2 of the poles are at -2 and -4.\\n\\nLet's express the system transfer function as:\\n\\nH(s) = (A(s))^m / (B(s))\\n\\nwhere A(s) is a polynomial with the zeros of the system and B(s) is a polynomial with the poles of the system.\\n\\nSince we know that the system has a relative degree of 3, we have:\\n\\nB(s) = s^3 + a2s^2 + a1s + a0\\n\\nWe also know that B(s) has poles at s=-2 and s=-4. We can write:\\n\\nB(s) = s^3 + 6s^2 + 8s + 8\\n\\nThe system has a steady-state value of 0.25. We can write the transfer function as:\\n\\nH(s) = (A(s)) / (s^3 + 6s^2 + 8s + 8)\\n\\nTo get a steady-state value of 0.25, the numerator A(s) needs to have a factor that cancels the DC component in the denominator. Since the numerator has more poles than zeros, we assume the numerator must also have a repeated pole at the origin.\\n\\nA(s) = s^3 + b2s^2 + b1s + b0\\n\\nWe can now simplify the system transfer function:\\n\\nH(s) = (s^3 + b2s^2 + b1s + b0) / (s^3 + 6s^2 + 8s + 8)\\n\\nTo have a steady-state value of 0.25, the numerator must cancel the DC component in the denominator. Since we are assuming a repeated pole at the origin for both the numerator and the denominator, we can simplify this by factoring the numerator:\\n\\nH(s) = (s^3 + b2s^2 + b1s + b0) / (s^3 + 6s^2 + 8s + 8)\\nH(s) = (s(s^2 + b2s + b1) + b0) / (s^3 + 6s^2 + 8s + 8)\\nH(s) = (s(s + p1)(s + p2) + b0) / (s(s+2)(s+4))\\n\\nAt DC (i.e. s=0) H(0) = 0.25. This means that when s=0 the numerator (s(s + p1)(s + p2) + b0) must equal 0.25(s(s+2)(s+4)).\\n\\ns(s + p1)(s + p2) + b0 = 0.25(s(s+2)(s+4))\\n\\nSubstituting s=0, we have:\\n\\nb0 = 0 since (0)(p1)(p2) + b0 = 0 \\n\\nHowever we must have an equation for b0 without just substituting s=0. To get around this equation, we simplify the equation to be used for s=(s+2)(s+4) then substitute for s equal to -2 and -4.\\n\\nBreaking the equation into two simpler equations that are still equal to each other will allow us to get the value for b0 without just setting the variable to zero.\\n\\nNow we simplify the equation with a2 and b2, p1 and p2 as unknowns using b0=0:\\n\\ns(s + p1)(s + p2) = 0.25s(s+2)(s+4)\\n\\ns^3 + p1s^2 + p2s = 0.25(s^3 + 6s^2 + 8s)\\n\\nComparing the coefficients on both sides for s^2, for s^3, we get:\\n\\np1=0.25*3=0.75, and  p2 = 0.25*8=2.\\n\\nHowever we also have the constraint that p1 and p2 must be positive. Since a2 = p2+p1, we find a2 = 2.75.\\n\\nTherefore, we have p1 = 0.75 and p2 = 2.\\n\\nWe now need to determine b0. \\n\\nNow that we know p1 and p2, we have  the terms s^2 and s in s(s + p1)(s + p2)  = 0.25(s^2 + 6s + 8)\\n\\nSubtracting these terms from both sides of the equation:\\n\\ns^3 + (p2+p1)s^2 + p2s - 0.25(s^2 + 6s + 8)\\ns^3 + 2.75s^2 + 2s - 0.25(s^2 + 6s + 8)\\ns^3 + 2.75s^2 + 2s - 0.25s^2 - 1.5s - 2\\ns^3 + 2.45s^2 + 0.5s - 2\\n\\nSubtracting s^3 from both sides and combining the constant terms we get:\\n\\n2.45s^2 + 0.5s - 2 = (0.25)(s^3 + 6s^2 + 8s)\\n\\nMultiplying both sides of this equation by -4:\\n\\n-9.8s^2 - 2s + 8 = -s^3 - 6s^2 - 8s\\n\\nNow move all the terms to the left-hand side to form a quadratic equation:\\n\\ns^3 + 3.2s^2 + 6s + 8 = 0\\n\\nTo determine if the above equation has real roots, we can solve the polynomial for its roots using the Rational Root Theorem or look for a factor of 8 that can fit into the equation: \\n\\nThe positive roots of a cubic polynomial s^3 + 3.2s^2 + 6s + 8 = 0 are 1.115, -1.115 and -0.05.\\n\\nHowever, since we are dealing with a transfer function, we are only concerned with the poles at s=-2 and s=-4. The real root s=-0.05 will be a pole of the numerator of the transfer function and the other two complex roots will be ignored since they will be cancelled out by the two real poles -2 and -4.\\n\\nWe can now express the numerator of the system transfer function as:\\n\\nA(s) = s(s+0.05)(s+2)(s+4)\\n\\nNow we have the numerator of the transfer function. However, the third pole of the system is unknown, and we also need to find the third zero (which is actually the third pole of the system).\" \n",
      " ---------------- \n",
      "\n",
      "Prompt: '<|begin_of_text|><|start_header_id|>system<|end_header_id|>\\n\\nCutting Knowledge Date: December 2023\\nToday Date: 26 Jul 2024\\n\\n<|eot_id|><|start_header_id|>user<|end_header_id|>\\n\\nDetermine the transfer function of a linear time invariant (LTI) system given the following information: The system has relative degree 3. It has 3 poles, of which 2 are at -2 and -4. The impulse response resembles a step response for a stable linear system with a steady state value of 0.25.<|eot_id|><|start_header_id|>assistant<|end_header_id|>\\n\\n', \n",
      " Generated text: 'To determine the transfer function of the system, we\\'ll need to consider the characteristics of the impulse response. Since the impulse response is similar to a step response with a steady-state value of 0.25, we can interpret this as the system having a DC gain of 0.25.\\n\\nThe relative degree of the system is 3. This means that the transfer function will have 3 poles and 3 zeros (including the \"pole at infinity\" from the DC gain), but we\\'re given 2 poles. We can assume the third pole is unknown for now.\\n\\nSince the system has 3 poles, and 2 of them are at -2 and -4, we can represent the transfer function in the following form:\\n\\nH(s) = K * (s + a) * (s + b) * (s + c)\\n\\nwhere K is a constant, and a, b, and c are the locations of the poles.\\n\\nWe know that the poles are -2 and -4, so we can substitute those values into our transfer function:\\n\\nH(s) = K * (s + 2) * (s + 4) * (s + c)\\n\\nWe also know that the system has a steady-state value of 0.25. For a transfer function of the form H(s) = K * (s + a) * (s + b) * (s + c), the DC gain is equal to K * a * b * c. Therefore, we can set up the equation:\\n\\n0.25 = K * (-2) * (-4) * (-c)\\n\\nSimplifying this equation, we get:\\n\\n0.25 = K * 8 * (-c)\\n0.25 = -8Kc\\n-0.03125 = Kc\\n\\nNow, we need to find the value of c. Since the system has a relative degree of 3, we know that there must be 3 zeros. Given that we have 3 poles, the 3rd pole must be at infinity. However, since a third pole at infinity cannot be a real pole, the value of c must be infinite. However, in this case, it\\'s more practical to assume the 3rd pole is a complex conjugate pair of poles such that the system is marginally stable. However that contradicts the \"steady-state value of 0.25\" we are given; so, the most likely scenario is that the 3rd pole is real and the system is unstable. Assuming the third pole is real, this contradicts the given information that the system is \"stable,\" which makes this approach not feasible.\\n\\nHowever, given the system\\'s description is a step response which implies a zero at the origin (because the step response of an LTI system has all the zeros of the transfer function), the three zeros of the system are at the origin, -2, and -4 (though this cancels out the constant pole at -2, leaving the system with two poles at -2 and -4, and a single pole at infinity, which is a pole in the time domain equivalent of having a zero at the origin). \\n\\nSo H(s) = K / (s*(s+2)^2)\\n\\nUsing a step response with a steady state value of 0.25, we can interpret this as the system having a DC gain of 0.25, which can be used to determine K:\\n\\nThe transfer function of the system can be written as:\\n\\nH(s) = K / (s^3 + 6s^2 + 8s)\\n\\nComparing the coefficients of this transfer function with the general form of a transfer function, we can see that the DC gain is K, and at steady state, the output of the system is equal to this DC gain.\\n\\nTherefore, we can determine K as follows:\\n\\n0.25 = K\\nK = 0.25\\n\\nThe final transfer function is:\\n\\nH(s) = 0.25 / (s^3 + 6s^2 + 8s)' \n",
      " ---------------- \n",
      "\n",
      "Prompt: '<|begin_of_text|><|start_header_id|>system<|end_header_id|>\\n\\nCutting Knowledge Date: December 2023\\nToday Date: 26 Jul 2024\\n\\n<|eot_id|><|start_header_id|>user<|end_header_id|>\\n\\nDetermine the transfer function of a linear time invariant (LTI) system given the following information: The system has relative degree 3. It has 3 poles, of which 2 are at -2 and -4. The impulse response resembles a step response for a stable linear system with a steady state value of 0.25.<|eot_id|><|start_header_id|>assistant<|end_header_id|>\\n\\n', \n",
      " Generated text: \"To find the transfer function of the LTI system, we need to first find the pole-zero form of the transfer function. Since the system has a relative degree of 3, this implies that the numerator of the transfer function has a degree of 3. \\n\\nThe poles of the system are at -2 and -4, so we can represent the system as:\\n\\nH(s) = (s + 2)^a (s + 4)^b / (s + 2)^2 (s + 4)^2 (s + r)\\n\\nwhere a and b are the multiplicities of the poles. Assuming a and b are 1, then the poles have a multiplicity of 2. The system is stable since all the poles are in the left half of the s-plane. \\n\\nHowever, the steady state value of the step response is 0.25. Since the system is stable and has a steady state value for the step response, it implies that the system has a zero in the left half of the s-plane. We can place the zero as (s + z) = 0 or s + z = 0, where z is the value of the zero. \\n\\nSo, the system transfer function in the s-domain can be written as:\\n\\nH(s) = (s + z) (s + 2) (s + 4) / (s + 2)^2 (s + 4)^2\\n\\nTo simplify the expression, let's expand (s + 2)^2 and (s + 4)^2.\\n\\nH(s) = (s + z) (s^2 + 6s + 8) / (s^2 + 8s + 16) (s^2 + 16s + 64)\\n\\nTo make the denominator have the same numerator degree as the numerator, we can multiply the denominator by s^1 to get:\\nH(s) = (s + z) (s^2 + 6s + 8) / (s^3 + 24s^2 + 192s + 128)\\n\\nNow we can compare the numerator and the denominator to get the coefficients. Since the system has a relative degree of 3, the s^3 term in the denominator must arise from the term (s + z) * (s^2 + 6s + 8). This can be seen by comparing the highest order terms of the numerator and the denominator.\\n\\nSo the numerator can be expanded and matched to the denominator to find that the coefficient of s^3 is 1, and the coefficient of s^2 is 0. For the numerator to have this form, it must be that z = 1 (because 1*6-2 = 4), then the numerator can be written as (s^3 + 4s^2 + 8s + 8).\\n\\nHence the transfer function is H(s) = (s^3 + 4s^2 + 8s + 8) / (s^3 + 24s^2 + 192s + 128), with z = 1.\\n\\nLet's check if this has a steady-state gain of 0.25 when the input is a step function.\\n\\nThe steady state response of a continuous-time LTI system is equal to the DC gain, which is the ratio of the coefficients of the highest degree term in the numerator to the coefficients of the highest degree term in the denominator. But the DC gain can also be calculated by the final value theorem which states that the steady state value of the output is lim (s -> 0) s * H(s) * U(s), where U(s) is the Laplace transform of the input.\\n\\nFor a step function, U(s) = 1/s. So the steady state value of the system is lim (s -> 0) s * H(s) * 1/s = lim (s -> 0) H(s).\\n\\nLet's apply this to our transfer function.\\n\\nlim (s -> 0) (s^3 + 4s^2 + 8s + 8) / (s^3 + 24s^2 + 192s + 128)\\n\\nWe ignore the term with s^2 in the denominator, and apply L'Hôpital's rule again to the remaining term. The result is 8/128, which is 1/16.\\n\\nHowever, the system has a steady state value of 0.25. To get the actual numerator that produces this, we need the numerator to be 0.25 * (s^3 + 24s^2 + 192s + 128), because the steady state value can also be found by lim (s -> 0) (s^3 + 24s^2 + 192s + 128) / (s^3 + 24s^2 + 192s + 128) = 0.25.\\n\\nHence the transfer function of the system is H(s) = 0.25 (s^3 + 24s^2 + 192s + 128) / (s^3 + 24s^2 + 192s + 128) = 0.25.\" \n",
      " ---------------- \n",
      "\n"
     ]
    }
   ],
   "source": [
    "## Print the first input output\n",
    "for answer in answers:\n",
    "    prompt = answer.prompt\n",
    "    for e in answer.outputs:\n",
    "        print(f\"Prompt: {prompt!r}, \\n Generated text: {e.text!r} \\n ---------------- \\n\")\n",
    "    break"
   ]
  },
  {
   "cell_type": "code",
   "execution_count": 14,
   "metadata": {},
   "outputs": [],
   "source": [
    "answers_processed = [[e.text for e in answer.outputs] for answer in answers]"
   ]
  },
  {
   "cell_type": "markdown",
   "metadata": {},
   "source": [
    "## Step 3: Estimate P(z|y)"
   ]
  },
  {
   "cell_type": "code",
   "execution_count": 26,
   "metadata": {},
   "outputs": [
    {
     "name": "stderr",
     "output_type": "stream",
     "text": [
      "Processed prompts: 100%|███████████████████████████████████████████████████████████████████████████████████████████| 60/60 [00:09<00:00,  6.04it/s, est. speed input: 7018.22 toks/s, output: 257.08 toks/s]\n",
      "Processed prompts: 100%|███████████████████████████████████████████████████████████████████████████████████████████| 40/40 [00:06<00:00,  6.44it/s, est. speed input: 7126.26 toks/s, output: 288.10 toks/s]\n",
      "Processed prompts:  70%|████████████████████████████████████████████████████████████████▍                           | 35/50 [10:02<04:18, 17.21s/it, est. speed input: 8419.07 toks/s, output: 55.11 toks/s]\n",
      "Processed prompts: 100%|███████████████████████████████████████████████████████████████████████████████████████████| 60/60 [00:07<00:00,  8.38it/s, est. speed input: 9703.25 toks/s, output: 161.33 toks/s]\n",
      "Processed prompts: 100%|███████████████████████████████████████████████████████████████████████████████████████████| 50/50 [00:09<00:00,  5.42it/s, est. speed input: 5191.22 toks/s, output: 578.53 toks/s]\n",
      "Processed prompts: 100%|███████████████████████████████████████████████████████████████████████████████████████████| 50/50 [00:14<00:00,  3.47it/s, est. speed input: 4110.23 toks/s, output: 283.19 toks/s]\n",
      "Processed prompts: 100%|███████████████████████████████████████████████████████████████████████████████████████████| 50/50 [00:06<00:00,  7.65it/s, est. speed input: 5982.24 toks/s, output: 639.47 toks/s]\n",
      "Processed prompts: 100%|███████████████████████████████████████████████████████████████████████████████████████████| 40/40 [00:07<00:00,  5.45it/s, est. speed input: 5045.80 toks/s, output: 446.20 toks/s]\n",
      "Processed prompts: 100%|███████████████████████████████████████████████████████████████████████████████████████████| 50/50 [00:08<00:00,  6.18it/s, est. speed input: 5924.66 toks/s, output: 440.35 toks/s]\n",
      "Processed prompts: 100%|███████████████████████████████████████████████████████████████████████████████████████████| 90/90 [00:17<00:00,  5.11it/s, est. speed input: 7151.29 toks/s, output: 325.91 toks/s]\n",
      "Processed prompts: 100%|███████████████████████████████████████████████████████████████████████████████████████████| 50/50 [00:17<00:00,  2.78it/s, est. speed input: 4474.17 toks/s, output: 176.76 toks/s]\n",
      "Processed prompts: 100%|███████████████████████████████████████████████████████████████████████████████████████████| 60/60 [00:09<00:00,  6.37it/s, est. speed input: 8709.53 toks/s, output: 194.17 toks/s]\n",
      "Processed prompts: 100%|███████████████████████████████████████████████████████████████████████████████████████████| 70/70 [00:12<00:00,  5.71it/s, est. speed input: 7035.82 toks/s, output: 556.76 toks/s]"
     ]
    },
    {
     "name": "stdout",
     "output_type": "stream",
     "text": [
      "120\n"
     ]
    },
    {
     "name": "stderr",
     "output_type": "stream",
     "text": [
      "\n"
     ]
    }
   ],
   "source": [
    "prompt_template = \"\"\"\n",
    "Given a question, an model-generated answer and a reasoning step from the ground-truth answer. \n",
    "You are required to analyze and tell if the model-generated answer contains the given reasoning step.\n",
    "End your answer with [[Yes]] or [[No]].\n",
    "\n",
    "Question: {}\n",
    "\n",
    "\n",
    "Model-generated answer: {}\n",
    "\n",
    "Reasoning Step: {}\n",
    "\n",
    "\"\"\"\n",
    "\n",
    "stop_token_ids = [128009] # for llama 3\n",
    "eval_params = SamplingParams(n=1, temperature=0, top_p=1, seed=123, max_tokens=2048, stop_token_ids=stop_token_ids)\n",
    "\n",
    "dump_data_full = []\n",
    "\n",
    "for question, gt_steps, gen_answers in zip(questions, solutions, answers_processed):\n",
    "    dump_data = [{\n",
    "        'question': question,\n",
    "        'answer': gen_answer,\n",
    "        'contamination': []\n",
    "    } for gen_answer in gen_answers]\n",
    "    prompt_set = []\n",
    "\n",
    "    len_gt_steps = len(gt_steps)\n",
    "\n",
    "    for gen_answer in gen_answers:\n",
    "        for gt_step in gt_steps:\n",
    "            prompt_set.append(prompt_template.format(question, gen_answer, gt_step))\n",
    "    \n",
    "    if len(prompt_set) == 0:\n",
    "        continue\n",
    "\n",
    "    prompt_set_processed = [tokenizer.apply_chat_template(\n",
    "        [{\"role\": \"user\", \"content\": e}],\n",
    "        add_generation_prompt=True,\n",
    "        tokenize=False,\n",
    "    ) for e in prompt_set]\n",
    "\n",
    "    eval_results = llm.generate(prompt_set_processed, eval_params)\n",
    "    eval_results = [result.outputs[0].text.strip() for result in eval_results]\n",
    "\n",
    "    for i, eval_result in enumerate(eval_results):\n",
    "        if eval_result[-1] == '.':\n",
    "            eval_result = eval_result[:-1]\n",
    "\n",
    "        contain = None\n",
    "        if '[[Yes]]' in eval_result:\n",
    "            contain = True\n",
    "        elif '[[No]]' in eval_result:\n",
    "            contain = False\n",
    "\n",
    "        answer_id = i // len_gt_steps\n",
    "\n",
    "        step_id = i % len_gt_steps\n",
    "\n",
    "        # print(answer_id)\n",
    "        # print(step_id)\n",
    "        # print(len(gen_answers))\n",
    "        # print(len_gt_steps)\n",
    "        # print(i)\n",
    "        # print('-----')\n",
    "\n",
    "        dump_data[answer_id]['contamination'].append({\n",
    "            'gt_step': gt_steps[step_id],\n",
    "            'is_contain': contain,\n",
    "            'analysis': eval_result\n",
    "        })\n",
    "    \n",
    "    dump_data_full.extend(dump_data)\n",
    "\n",
    "print(len(dump_data_full))\n",
    "\n",
    "import json\n",
    "with open('/u/ziqiw9/LLM4Eng/dump.json', 'w') as f:\n",
    "    json.dump(dump_data_full, f, indent=4)\n"
   ]
  },
  {
   "cell_type": "code",
   "execution_count": null,
   "metadata": {},
   "outputs": [],
   "source": []
  }
 ],
 "metadata": {
  "kernelspec": {
   "display_name": "llama3_finetuning_env",
   "language": "python",
   "name": "python3"
  },
  "language_info": {
   "codemirror_mode": {
    "name": "ipython",
    "version": 3
   },
   "file_extension": ".py",
   "mimetype": "text/x-python",
   "name": "python",
   "nbconvert_exporter": "python",
   "pygments_lexer": "ipython3",
   "version": "3.11.11"
  }
 },
 "nbformat": 4,
 "nbformat_minor": 2
}
